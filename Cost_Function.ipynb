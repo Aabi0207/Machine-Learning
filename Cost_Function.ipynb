{
 "cells": [
  {
   "cell_type": "markdown",
   "id": "ecd608f6",
   "metadata": {},
   "source": [
    "## Learn how to implement the Cost Function into code"
   ]
  },
  {
   "cell_type": "code",
   "execution_count": 1,
   "id": "bd66a990",
   "metadata": {},
   "outputs": [],
   "source": [
    "import numpy as np\n",
    "import matplotlib.pyplot as plt"
   ]
  },
  {
   "cell_type": "markdown",
   "id": "cb406d55",
   "metadata": {},
   "source": [
    "### Create the data points "
   ]
  },
  {
   "cell_type": "code",
   "execution_count": 2,
   "id": "5b62a5f5",
   "metadata": {},
   "outputs": [],
   "source": [
    "x_train = np.array([1, 2])\n",
    "y_train = np.array([300, 500])"
   ]
  },
  {
   "cell_type": "markdown",
   "id": "a8bc6063",
   "metadata": {},
   "source": [
    "## Compute Cost \n",
    "\n",
    "The equation to compute the cost is "
   ]
  }
 ],
 "metadata": {
  "kernelspec": {
   "display_name": "Python 3 (ipykernel)",
   "language": "python",
   "name": "python3"
  },
  "language_info": {
   "codemirror_mode": {
    "name": "ipython",
    "version": 3
   },
   "file_extension": ".py",
   "mimetype": "text/x-python",
   "name": "python",
   "nbconvert_exporter": "python",
   "pygments_lexer": "ipython3",
   "version": "3.11.5"
  }
 },
 "nbformat": 4,
 "nbformat_minor": 5
}
